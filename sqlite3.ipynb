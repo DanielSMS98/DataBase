{
 "metadata": {
  "language_info": {
   "codemirror_mode": {
    "name": "ipython",
    "version": 3
   },
   "file_extension": ".py",
   "mimetype": "text/x-python",
   "name": "python",
   "nbconvert_exporter": "python",
   "pygments_lexer": "ipython3",
   "version": "3.9.2"
  },
  "orig_nbformat": 2,
  "kernelspec": {
   "name": "python392jvsc74a57bd0b51e40d2a5f33d16421cfdbb81708acf6a2442a16d665e8e6b8e7c9af8d6a2a6",
   "display_name": "Python 3.9.2 64-bit ('DataBase-VdjKUXQn': pipenv)"
  }
 },
 "nbformat": 4,
 "nbformat_minor": 2,
 "cells": [
  {
   "cell_type": "code",
   "execution_count": null,
   "metadata": {},
   "outputs": [],
   "source": [
    "#SQLite3"
   ]
  },
  {
   "cell_type": "code",
   "execution_count": null,
   "metadata": {},
   "outputs": [],
   "source": [
    "##1. Importar librerias y creacion de base de datos."
   ]
  },
  {
   "cell_type": "code",
   "execution_count": 30,
   "metadata": {},
   "outputs": [],
   "source": [
    "#Ya viene instalado con python.\n",
    "import sqlite3\n",
    "#si la base de datos no existe se crea automaticamnete\n",
    "con = sqlite3.connect('ejemplo.db')\n",
    "# cur variable para llamar los metodos de la base de datos\n",
    "cur = con.cursor()"
   ]
  },
  {
   "cell_type": "code",
   "execution_count": null,
   "metadata": {},
   "outputs": [],
   "source": [
    "##2. Creacion de tabla en la base de datos."
   ]
  },
  {
   "cell_type": "code",
   "execution_count": 55,
   "metadata": {},
   "outputs": [
    {
     "output_type": "execute_result",
     "data": {
      "text/plain": [
       "<sqlite3.Cursor at 0x255d2bf030>"
      ]
     },
     "metadata": {},
     "execution_count": 55
    }
   ],
   "source": [
    "# Create table\n",
    "cur.execute('''CREATE TABLE users\n",
    "               (id int, \n",
    "               user text, \n",
    "               gmail text, \n",
    "               password text)''')\n"
   ]
  },
  {
   "cell_type": "code",
   "execution_count": null,
   "metadata": {},
   "outputs": [],
   "source": [
    "##3. insertar datos"
   ]
  },
  {
   "cell_type": "code",
   "execution_count": 56,
   "metadata": {},
   "outputs": [],
   "source": [
    "# Insertar variables en la tabla\n",
    "cur.execute(\"INSERT INTO users VALUES (1,'Daniel','solis@uabc.edu.mx','123'),(2,'Jose','jose@uabc.edu.mx','123'), (3,'Martin','solis@uabc.edu.mx','123')\")\n",
    "\n",
    "# Save (commit) the changes\n",
    "con.commit()\n",
    "\n",
    "# We can also close the connection if we are done with it.\n",
    "# Just be sure any changes have been committed or they will be lost.\n",
    "#con.close()"
   ]
  },
  {
   "cell_type": "code",
   "execution_count": null,
   "metadata": {},
   "outputs": [],
   "source": [
    "##4. Colsultar base de datos."
   ]
  },
  {
   "cell_type": "code",
   "execution_count": 68,
   "metadata": {},
   "outputs": [
    {
     "output_type": "stream",
     "name": "stdout",
     "text": [
      "(2, 'Jose', 'sela.creyo@uabc.edu.mx', '123')\n(3, 'Martin', 'solis@uabc.edu.mx', '123')\n"
     ]
    }
   ],
   "source": [
    "for row in cur.execute('SELECT * FROM users ORDER BY id'):\n",
    "        print(row)"
   ]
  },
  {
   "cell_type": "code",
   "execution_count": null,
   "metadata": {},
   "outputs": [],
   "source": [
    "##5. Borra base de datos/tabla"
   ]
  },
  {
   "cell_type": "code",
   "execution_count": 71,
   "metadata": {},
   "outputs": [
    {
     "output_type": "stream",
     "name": "stdout",
     "text": [
      "(2, 'Jose', 'sela.creyo@uabc.edu.mx', '123')\n(3, 'Martin', 'sela.creyo3@uabc.edu.mx', '123')\n"
     ]
    }
   ],
   "source": [
    "#Introduce el id que se quiere borrar datos\n",
    "values = 1\n",
    "cur.execute(\"DELETE FROM users WHERE id = '%s'\"% values)\n",
    "con.commit()\n",
    "\n",
    "#comprobamos\n",
    "for row in cur.execute('SELECT * FROM users ORDER BY id'):\n",
    "        print(row)\n"
   ]
  },
  {
   "cell_type": "code",
   "execution_count": 53,
   "metadata": {},
   "outputs": [],
   "source": [
    "#Borrar tabla\n",
    "cur.execute(\"DROP TABLE users\")\n",
    "con.commit()"
   ]
  },
  {
   "cell_type": "code",
   "execution_count": 72,
   "metadata": {},
   "outputs": [],
   "source": [
    "#Borra base de datos\n",
    "#cur.execute(\"DROP DATABASE ejemplo\")\n",
    "#con.commit()"
   ]
  },
  {
   "cell_type": "code",
   "execution_count": null,
   "metadata": {},
   "outputs": [],
   "source": [
    "##6. Actualizar "
   ]
  },
  {
   "cell_type": "code",
   "execution_count": 70,
   "metadata": {},
   "outputs": [],
   "source": [
    "id = 3\n",
    "gmail = 'sela.creyo3@uabc.edu.mx'\n",
    "cur.execute(f\"UPDATE users SET gmail = {%gmail} WHERE id= {id}\")\n",
    "con.commit()"
   ]
  },
  {
   "cell_type": "code",
   "execution_count": null,
   "metadata": {},
   "outputs": [],
   "source": []
  }
 ]
}