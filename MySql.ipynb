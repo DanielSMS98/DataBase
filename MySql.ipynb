{
 "metadata": {
  "language_info": {
   "codemirror_mode": {
    "name": "ipython",
    "version": 3
   },
   "file_extension": ".py",
   "mimetype": "text/x-python",
   "name": "python",
   "nbconvert_exporter": "python",
   "pygments_lexer": "ipython3",
   "version": "3.9.2"
  },
  "orig_nbformat": 2,
  "kernelspec": {
   "name": "python392jvsc74a57bd0b51e40d2a5f33d16421cfdbb81708acf6a2442a16d665e8e6b8e7c9af8d6a2a6",
   "display_name": "Python 3.9.2 64-bit ('DataBase-VdjKUXQn': pipenv)"
  }
 },
 "nbformat": 4,
 "nbformat_minor": 2,
 "cells": [
  {
   "cell_type": "code",
   "execution_count": null,
   "metadata": {},
   "outputs": [],
   "source": [
    "#MySQL"
   ]
  },
  {
   "cell_type": "code",
   "execution_count": null,
   "metadata": {},
   "outputs": [],
   "source": [
    "##1. Instalar las instancias"
   ]
  },
  {
   "cell_type": "code",
   "execution_count": 3,
   "metadata": {},
   "outputs": [],
   "source": [
    "Instalar Mysql \"pip install mysql-connector-python\" y \"pipenv install pandas\""
   ]
  },
  {
   "cell_type": "code",
   "execution_count": null,
   "metadata": {},
   "outputs": [],
   "source": [
    "##2. Importacion de la base de datos."
   ]
  },
  {
   "cell_type": "code",
   "execution_count": 5,
   "metadata": {},
   "outputs": [],
   "source": [
    "import mysql.connector\n",
    "from mysql.connector import Error\n",
    "import pandas as pd"
   ]
  },
  {
   "cell_type": "code",
   "execution_count": null,
   "metadata": {},
   "outputs": [],
   "source": [
    "##3. Conexion al servidor"
   ]
  },
  {
   "cell_type": "code",
   "execution_count": 6,
   "metadata": {},
   "outputs": [
    {
     "output_type": "stream",
     "name": "stdout",
     "text": [
      "MySQL Database connection successful\n"
     ]
    }
   ],
   "source": [
    "##En caso de conexiones a base de datos locales\n",
    "def create_server_connection(host_name,host_port,user_name, user_password):\n",
    "    connection = None\n",
    "    try:\n",
    "        connection = mysql.connector.connect(\n",
    "            host=host_name,\n",
    "            port=host_port,\n",
    "            user=user_name,\n",
    "            passwd=user_password\n",
    "        )\n",
    "        print(\"MySQL Database connection successful\")\n",
    "    except Error as err:\n",
    "        print(f\"Error: '{err}'\")\n",
    "\n",
    "    return connection\n",
    "    \n",
    "##Cambiar variables segun tu base de datos y guardar la conexion\n",
    "connection_server=create_server_connection(\"localhost\",3306,\"root\",\"2012solis\")"
   ]
  },
  {
   "cell_type": "code",
   "execution_count": null,
   "metadata": {},
   "outputs": [],
   "source": [
    "##4. Creacion de base de datos"
   ]
  },
  {
   "cell_type": "code",
   "execution_count": 7,
   "metadata": {},
   "outputs": [
    {
     "output_type": "stream",
     "name": "stdout",
     "text": [
      "Database created successfully\n"
     ]
    }
   ],
   "source": [
    "\n",
    "def create_database(connection, query):\n",
    "    cursor = connection.cursor()\n",
    "    try:\n",
    "        cursor.execute(query)\n",
    "        print(\"Database created successfully\")\n",
    "    except Error as err:\n",
    "        print(f\"Error: '{err}'\")\n",
    "\n",
    "create_database_query = \"CREATE DATABASE python\"\n",
    "create_database(connection_server, create_database_query)"
   ]
  },
  {
   "cell_type": "code",
   "execution_count": null,
   "metadata": {},
   "outputs": [],
   "source": [
    "##Conexion a base de datos"
   ]
  },
  {
   "cell_type": "code",
   "execution_count": 25,
   "metadata": {},
   "outputs": [],
   "source": [
    "def create_db_connection(host_name,host_port,user_name, user_password, db_name):\n",
    "    connection = None\n",
    "    try:\n",
    "        connection = mysql.connector.connect(\n",
    "            host=host_name,\n",
    "            port=host_port,\n",
    "            user=user_name,\n",
    "            passwd=user_password,\n",
    "            database=db_name\n",
    "        )\n",
    "        print(\"MySQL Database connection successful\")\n",
    "    except Error as err:\n",
    "        print(f\"Error: '{err}'\")\n",
    "\n",
    "    return connection\n",
    "\n",
    "def execute_query(connection, query):\n",
    "    cursor = connection.cursor()\n",
    "    try:\n",
    "        cursor.execute(query)\n",
    "        connection.commit()\n",
    "        print(\"Query successful\")\n",
    "    except Error as err:\n",
    "        print(f\"Error: '{err}'\")\n",
    "\n",
    "\n",
    "def read_query(connection, query):\n",
    "    cursor = connection.cursor()\n",
    "    result = None\n",
    "    try:\n",
    "        cursor.execute(query)\n",
    "        result = cursor.fetchall()\n",
    "        return result\n",
    "    except Error as err:\n",
    "        print(f\"Error: '{err}'\")"
   ]
  },
  {
   "cell_type": "code",
   "execution_count": null,
   "metadata": {},
   "outputs": [],
   "source": [
    "##6. CRUD"
   ]
  },
  {
   "cell_type": "code",
   "execution_count": 19,
   "metadata": {},
   "outputs": [
    {
     "output_type": "stream",
     "name": "stdout",
     "text": [
      "MySQL Database connection successful\n",
      "Query successful\n"
     ]
    }
   ],
   "source": [
    "#Crear tabla.\n",
    "create_teacher_table = \"\"\"\n",
    "Create table usuarios(\n",
    "id int AUTO_INCREMENT PRIMARY KEY,\n",
    "user varchar(20),\n",
    "gmail varchar(50), \n",
    "password varchar(50)\n",
    ");\n",
    " \"\"\"\n",
    "\n",
    "#Connect to the Database\n",
    "connection = create_db_connection(\"localhost\",\"3306\",\"root\",\"2012solis\",\"python\")\n",
    "# Execute our defined query\n",
    "execute_query(connection, create_teacher_table) \n",
    "\n"
   ]
  },
  {
   "cell_type": "code",
   "execution_count": 23,
   "metadata": {},
   "outputs": [
    {
     "output_type": "stream",
     "name": "stdout",
     "text": [
      "MySQL Database connection successful\n",
      "Query successful\n"
     ]
    }
   ],
   "source": [
    "#Insertar datos\n",
    "pop_user = \"\"\"\n",
    "INSERT INTO usuarios VALUES\n",
    "(2,'Daniel', 'solis@uabc.edu.mx', '111')\n",
    "\"\"\"\n",
    "\n",
    "connection = create_db_connection(\"localhost\",\"3306\",\"root\",\"2012solis\",\"python\")\n",
    "execute_query(connection, pop_user)"
   ]
  },
  {
   "cell_type": "code",
   "execution_count": 31,
   "metadata": {},
   "outputs": [
    {
     "output_type": "stream",
     "name": "stdout",
     "text": [
      "MySQL Database connection successful\n(2, 'Daniel', 'solis@uabc.edu.mx', '111')\n"
     ]
    }
   ],
   "source": [
    "#Consultar.\n",
    "q1 = \"\"\"\n",
    "SELECT *\n",
    "FROM usuarios;\n",
    "\"\"\"\n",
    "\n",
    "connection = create_db_connection(\"localhost\",\"3306\",\"root\",\"2012solis\",\"python\")\n",
    "results = read_query(connection, q1)\n",
    "\n",
    "for result in results:\n",
    "  print(result)"
   ]
  },
  {
   "cell_type": "code",
   "execution_count": 28,
   "metadata": {},
   "outputs": [
    {
     "output_type": "stream",
     "name": "stdout",
     "text": [
      "MySQL Database connection successful\n",
      "Query successful\n"
     ]
    }
   ],
   "source": [
    "#Actualizar datos.\n",
    "update = \"\"\"\n",
    "UPDATE usuarios \n",
    "SET gmail = 'sela_creyo@uabc.edu.mx' \n",
    "WHERE id = 1;\n",
    "\"\"\"\n",
    "\n",
    "connection = create_db_connection(\"localhost\",\"3306\",\"root\",\"2012solis\",\"python\")\n",
    "execute_query(connection, update)"
   ]
  },
  {
   "cell_type": "code",
   "execution_count": 30,
   "metadata": {},
   "outputs": [
    {
     "output_type": "stream",
     "name": "stdout",
     "text": [
      "MySQL Database connection successful\n",
      "Query successful\n"
     ]
    }
   ],
   "source": [
    "#Borrar.\n",
    "\n",
    "#delete_course = \"\"\"SELECT * FROM course;\"\"\"\n",
    "delete_course = \"\"\"\n",
    "DELETE FROM usuarios WHERE id = 1;\n",
    "\"\"\"\n",
    "\n",
    "connection = create_db_connection(\"localhost\",\"3306\",\"root\",\"2012solis\",\"python\")\n",
    "execute_query(connection, delete_course)"
   ]
  },
  {
   "cell_type": "code",
   "execution_count": null,
   "metadata": {},
   "outputs": [],
   "source": []
  }
 ]
}